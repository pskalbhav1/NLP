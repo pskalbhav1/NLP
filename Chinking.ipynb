{
 "cells": [
  {
   "cell_type": "code",
   "execution_count": 1,
   "metadata": {},
   "outputs": [],
   "source": [
    "import nltk"
   ]
  },
  {
   "cell_type": "code",
   "execution_count": 2,
   "metadata": {},
   "outputs": [],
   "source": [
    "from nltk.corpus import state_union"
   ]
  },
  {
   "cell_type": "code",
   "execution_count": 3,
   "metadata": {},
   "outputs": [],
   "source": [
    "from nltk.tokenize import PunktSentenceTokenizer"
   ]
  },
  {
   "cell_type": "code",
   "execution_count": 4,
   "metadata": {},
   "outputs": [],
   "source": [
    "text=state_union.raw(\"2005-GWBush.txt\")"
   ]
  },
  {
   "cell_type": "code",
   "execution_count": 5,
   "metadata": {},
   "outputs": [],
   "source": [
    "sample=state_union.raw(\"2006-GWBush.txt\")"
   ]
  },
  {
   "cell_type": "code",
   "execution_count": 6,
   "metadata": {},
   "outputs": [],
   "source": [
    "custom_sent_tokenizer=PunktSentenceTokenizer(text)"
   ]
  },
  {
   "cell_type": "code",
   "execution_count": 7,
   "metadata": {},
   "outputs": [],
   "source": [
    "tokenized=custom_sent_tokenizer.tokenize(text)"
   ]
  },
  {
   "cell_type": "code",
   "execution_count": 10,
   "metadata": {},
   "outputs": [],
   "source": [
    "def process_content():\n",
    "    try:\n",
    "        for i in tokenized:\n",
    "            words=nltk.word_tokenize(i)\n",
    "            tagged=nltk.pos_tag(words)\n",
    "            chunkGram=r\"\"\"Chunk:{<.*>+}\n",
    "                             }<VB.?|IN|DT>+{\"\"\"\n",
    "            chunkParser=nltk.RegexpParser(chunkGram)\n",
    "            chunked=chunkParser.parse(tagged)\n",
    "            chunked.draw()\n",
    "            print(\"Chunked:\\n\")\n",
    "            print(chunked)\n",
    "    except Exception as e:\n",
    "        print(e)            "
   ]
  },
  {
   "cell_type": "code",
   "execution_count": null,
   "metadata": {},
   "outputs": [
    {
     "name": "stdout",
     "output_type": "stream",
     "text": [
      "Chunked:\n",
      "\n",
      "(S\n",
      "  (Chunk PRESIDENT/NNP GEORGE/NNP W./NNP BUSH/NNP 'S/POS ADDRESS/NNP)\n",
      "  BEFORE/IN\n",
      "  (Chunk A/NNP JOINT/NNP SESSION/NNP)\n",
      "  OF/IN\n",
      "  (Chunk THE/NNP CONGRESS/NNP ON/NNP THE/NNP STATE/NNP)\n",
      "  OF/IN\n",
      "  (Chunk\n",
      "    THE/NNP\n",
      "    UNION/NNP\n",
      "    February/NNP\n",
      "    2/CD\n",
      "    ,/,\n",
      "    2005/CD\n",
      "    9:10/CD\n",
      "    P.M./NNP\n",
      "    EST/NNP\n",
      "    THE/NNP\n",
      "    PRESIDENT/NNP\n",
      "    :/:\n",
      "    Mr./NNP\n",
      "    Speaker/NNP\n",
      "    ,/,\n",
      "    Vice/NNP\n",
      "    President/NNP\n",
      "    Cheney/NNP\n",
      "    ,/,\n",
      "    members/NNS)\n",
      "  of/IN\n",
      "  (Chunk Congress/NNP ,/, fellow/JJ citizens/NNS :/:)\n",
      "  As/IN\n",
      "  a/DT\n",
      "  (Chunk new/JJ Congress/NNP gathers/NNS ,/,)\n",
      "  all/DT\n",
      "  of/IN\n",
      "  (Chunk us/PRP)\n",
      "  in/IN\n",
      "  the/DT\n",
      "  (Chunk elected/JJ branches/NNS)\n",
      "  of/IN\n",
      "  (Chunk government/NN share/NN)\n",
      "  a/DT\n",
      "  (Chunk great/JJ privilege/NN :/: We/PRP)\n",
      "  've/VBP\n",
      "  been/VBN\n",
      "  placed/VBN\n",
      "  in/IN\n",
      "  (Chunk office/NN)\n",
      "  by/IN\n",
      "  the/DT\n",
      "  (Chunk votes/NNS)\n",
      "  of/IN\n",
      "  the/DT\n",
      "  (Chunk people/NNS we/PRP)\n",
      "  serve/VBP\n",
      "  (Chunk ./.))\n",
      "Chunked:\n",
      "\n",
      "(S\n",
      "  (Chunk And/CC tonight/NN that/WDT)\n",
      "  is/VBZ\n",
      "  a/DT\n",
      "  (Chunk privilege/NN we/PRP share/NN)\n",
      "  with/IN\n",
      "  (Chunk newly-elected/JJ leaders/NNS)\n",
      "  of/IN\n",
      "  (Chunk Afghanistan/NNP ,/,)\n",
      "  the/DT\n",
      "  (Chunk Palestinian/JJ Territories/NNP ,/, Ukraine/NNP ,/, and/CC)\n",
      "  a/DT\n",
      "  (Chunk free/JJ and/CC sovereign/JJ Iraq/NNP ./.))\n",
      "Chunked:\n",
      "\n",
      "(S (Chunk (/( Applause/NNP ./. )/)))\n",
      "Chunked:\n",
      "\n",
      "(S\n",
      "  (Chunk Two/CD weeks/NNS ago/RB ,/, I/PRP)\n",
      "  stood/VBD\n",
      "  on/IN\n",
      "  the/DT\n",
      "  (Chunk steps/NNS)\n",
      "  of/IN\n",
      "  this/DT\n",
      "  (Chunk Capitol/NNP and/CC)\n",
      "  renewed/VBN\n",
      "  the/DT\n",
      "  (Chunk commitment/NN)\n",
      "  of/IN\n",
      "  (Chunk our/PRP$ nation/NN to/TO)\n",
      "  the/DT\n",
      "  guiding/VBG\n",
      "  (Chunk ideal/NN)\n",
      "  of/IN\n",
      "  (Chunk liberty/NN)\n",
      "  for/IN\n",
      "  all/DT\n",
      "  (Chunk ./.))\n"
     ]
    }
   ],
   "source": [
    "process_content()"
   ]
  },
  {
   "cell_type": "code",
   "execution_count": null,
   "metadata": {},
   "outputs": [],
   "source": []
  }
 ],
 "metadata": {
  "kernelspec": {
   "display_name": "Python 3",
   "language": "python",
   "name": "python3"
  },
  "language_info": {
   "codemirror_mode": {
    "name": "ipython",
    "version": 3
   },
   "file_extension": ".py",
   "mimetype": "text/x-python",
   "name": "python",
   "nbconvert_exporter": "python",
   "pygments_lexer": "ipython3",
   "version": "3.8.3"
  }
 },
 "nbformat": 4,
 "nbformat_minor": 4
}
