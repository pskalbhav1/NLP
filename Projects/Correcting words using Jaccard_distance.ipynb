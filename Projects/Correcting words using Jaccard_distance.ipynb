{
 "cells": [
  {
   "cell_type": "code",
   "execution_count": 1,
   "metadata": {},
   "outputs": [],
   "source": [
    "# importing the nltk suite \n",
    "import nltk\n",
    "  \n",
    "# importing jaccard distance and ngrams from nltk.util\n",
    "from nltk.metrics.distance import jaccard_distance\n",
    "from nltk.util import ngrams"
   ]
  },
  {
   "cell_type": "code",
   "execution_count": 2,
   "metadata": {},
   "outputs": [
    {
     "name": "stderr",
     "output_type": "stream",
     "text": [
      "[nltk_data] Downloading package words to\n",
      "[nltk_data]     C:\\Users\\praveen\\AppData\\Roaming\\nltk_data...\n",
      "[nltk_data]   Package words is already up-to-date!\n"
     ]
    }
   ],
   "source": [
    "# Downloading and importing package 'words' from nltk corpus\n",
    "nltk.download('words')\n",
    "from nltk.corpus import words\n",
    "correct_words = words.words()"
   ]
  },
  {
   "cell_type": "code",
   "execution_count": 3,
   "metadata": {},
   "outputs": [
    {
     "name": "stdout",
     "output_type": "stream",
     "text": [
      "happy\n",
      "amazing\n",
      "intelligent\n",
      "slopy\n",
      "figure\n",
      "plane\n",
      "tec\n"
     ]
    }
   ],
   "source": [
    "# list of incorrect spellings that need to be corrected \n",
    "incorrect_words=['happpy', 'azmaing', 'intelliengt','slopy','figur','plane','tect']\n",
    "\n",
    "# Jaccard distance, the opposite of the Jaccard coefficient, is used to measure the dissimilarity between two sample sets.\n",
    "# We get Jaccard distance by subtracting the Jaccard coefficient from 1. We can also get it by dividing the difference\n",
    "# between the sizes of the union and the intersection of two sets by the size of the union. We work with Q-grams \n",
    "# (these are equivalent to N-grams) which are referred to as characters instead of tokens. Jaccard Distance is given \n",
    "# by the following formula.\n",
    "#       Dj(A,B)= 1-J(A,B)= (|A ∪ B|-|A ∩ B|) / |A ∪ B|  \n",
    "\n",
    "# loop for finding correct spellings based on jaccard distance and printing the correct word\n",
    "for word in incorrect_words:\n",
    "    temp = [(jaccard_distance(set(ngrams(word, 2)),\n",
    "                              set(ngrams(w, 2))),w)\n",
    "            for w in correct_words if w[0]==word[0]]\n",
    "    print(sorted(temp, key = lambda val:val[0])[0][1])"
   ]
  },
  {
   "cell_type": "code",
   "execution_count": null,
   "metadata": {},
   "outputs": [],
   "source": []
  }
 ],
 "metadata": {
  "kernelspec": {
   "display_name": "Python 3",
   "language": "python",
   "name": "python3"
  },
  "language_info": {
   "codemirror_mode": {
    "name": "ipython",
    "version": 3
   },
   "file_extension": ".py",
   "mimetype": "text/x-python",
   "name": "python",
   "nbconvert_exporter": "python",
   "pygments_lexer": "ipython3",
   "version": "3.8.3"
  }
 },
 "nbformat": 4,
 "nbformat_minor": 4
}
