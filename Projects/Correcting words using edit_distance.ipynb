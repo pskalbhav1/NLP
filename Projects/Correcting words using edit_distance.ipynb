{
 "cells": [
  {
   "cell_type": "code",
   "execution_count": 1,
   "metadata": {},
   "outputs": [],
   "source": [
    "# importing the nltk suite \n",
    "import nltk\n",
    "  \n",
    "# importing edit distance  \n",
    "from nltk.metrics.distance  import edit_distance"
   ]
  },
  {
   "cell_type": "code",
   "execution_count": 2,
   "metadata": {},
   "outputs": [
    {
     "name": "stderr",
     "output_type": "stream",
     "text": [
      "[nltk_data] Downloading package words to\n",
      "[nltk_data]     C:\\Users\\praveen\\AppData\\Roaming\\nltk_data...\n",
      "[nltk_data]   Package words is already up-to-date!\n"
     ]
    }
   ],
   "source": [
    "# Downloading and importing package 'words'\n",
    "nltk.download('words')\n",
    "from nltk.corpus import words\n",
    "correct_words = words.words()"
   ]
  },
  {
   "cell_type": "code",
   "execution_count": 3,
   "metadata": {},
   "outputs": [
    {
     "name": "stdout",
     "output_type": "stream",
     "text": [
      "happy\n",
      "aiming\n",
      "intelligent\n",
      "slopy\n",
      "figure\n",
      "plane\n",
      "tact\n"
     ]
    }
   ],
   "source": [
    "# list of incorrect spellings that need to be corrected \n",
    "incorrect_words=['happpy', 'azmaing', 'intelliengt','slopy','figur','plane','tect']\n",
    "  \n",
    "# Edit Distance measures dissimilarity between two strings by finding the minimum number of operations needed to \n",
    "# transform one string into the other. The transformations that can be performed are:\n",
    "# 1.Inserting a new character: \n",
    "#     bat -> bats (insertion of 's')\n",
    "# 2.Deleting an existing character. \n",
    "#     care -> car (deletion of 'e')\n",
    "# 3.Substituting an existing character.\n",
    "#     bin -> bit (substitution of n with t)\n",
    "# 4.Transposition of two existing consecutive characters. \n",
    "#     sing -> sign (transposition of ng to gn)\n",
    "\n",
    "# loop for finding correct spellings based on edit distance and printing the correct words\n",
    "for word in incorrect_words:\n",
    "    temp = [(edit_distance(word, w),w) for w in correct_words if w[0]==word[0]]\n",
    "    print(sorted(temp, key = lambda val:val[0])[0][1])"
   ]
  },
  {
   "cell_type": "code",
   "execution_count": null,
   "metadata": {},
   "outputs": [],
   "source": []
  }
 ],
 "metadata": {
  "kernelspec": {
   "display_name": "Python 3",
   "language": "python",
   "name": "python3"
  },
  "language_info": {
   "codemirror_mode": {
    "name": "ipython",
    "version": 3
   },
   "file_extension": ".py",
   "mimetype": "text/x-python",
   "name": "python",
   "nbconvert_exporter": "python",
   "pygments_lexer": "ipython3",
   "version": "3.8.3"
  }
 },
 "nbformat": 4,
 "nbformat_minor": 4
}
