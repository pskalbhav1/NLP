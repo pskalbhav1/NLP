{
 "cells": [
  {
   "cell_type": "code",
   "execution_count": 1,
   "metadata": {},
   "outputs": [],
   "source": [
    "from nltk.corpus import stopwords"
   ]
  },
  {
   "cell_type": "code",
   "execution_count": 2,
   "metadata": {},
   "outputs": [
    {
     "name": "stdout",
     "output_type": "stream",
     "text": [
      "<WordListCorpusReader in '.../corpora/stopwords' (not loaded yet)>\n"
     ]
    }
   ],
   "source": [
    "print(stopwords)"
   ]
  },
  {
   "cell_type": "code",
   "execution_count": 3,
   "metadata": {},
   "outputs": [],
   "source": [
    "stop_words=set(stopwords.words(\"english\"))"
   ]
  },
  {
   "cell_type": "code",
   "execution_count": 4,
   "metadata": {},
   "outputs": [
    {
     "name": "stdout",
     "output_type": "stream",
     "text": [
      "{'as', 'haven', 'at', \"she's\", \"weren't\", 'where', 'of', 'when', 'theirs', 'weren', 'won', \"don't\", 'needn', 'ain', \"didn't\", 'below', 'an', 'were', 'are', 'if', 've', 'hasn', 'in', 'don', 'hers', 'each', 'm', 'his', 'your', 'into', 'off', 's', 'out', 'yourself', 'that', 'hadn', 'against', 'again', 'nor', 'whom', 'until', 'ours', \"wasn't\", 'or', \"shouldn't\", 'on', 'and', 'i', 'themselves', 'the', 'wouldn', 'he', 'those', 'isn', 'herself', 'very', 'doing', 'me', 'has', 'a', 'been', 'all', \"should've\", 'does', 'him', \"couldn't\", 'you', 'how', 'yourselves', 'himself', 'once', \"you're\", \"mightn't\", 'myself', 'their', 'mightn', 'my', 'am', 'some', 't', \"mustn't\", 'from', 'doesn', 'it', 'under', 'which', \"needn't\", 'who', 'few', 'same', 'between', 'only', 'had', 'these', 're', 'above', \"you've\", 'both', 'she', 'not', 'wasn', 'why', 'here', 'through', \"you'll\", 'then', 'too', 'should', 'now', 'was', 'over', 'y', 'its', 'but', 'have', 'yours', 'do', 'so', 'they', 'being', 'itself', 'other', \"hasn't\", 'can', 'mustn', 'with', 'no', \"hadn't\", \"shan't\", \"it's\", 'be', 'shouldn', 'such', 'shan', 'just', 'after', 'while', 'most', 'up', 'what', 'd', 'our', 'this', 'before', 'couldn', 'did', \"isn't\", 'any', 'having', 'o', 'to', 'further', 'll', \"that'll\", 'for', 'about', 'down', 'there', 'will', 'we', 'aren', 'ma', 'than', \"won't\", \"haven't\", 'more', 'own', \"doesn't\", \"wouldn't\", 'by', 'her', 'is', 'them', 'during', 'didn', \"you'd\", 'ourselves', 'because', \"aren't\"}\n"
     ]
    }
   ],
   "source": [
    "print(stop_words)"
   ]
  },
  {
   "cell_type": "code",
   "execution_count": 5,
   "metadata": {},
   "outputs": [],
   "source": [
    "from nltk.tokenize import word_tokenize"
   ]
  },
  {
   "cell_type": "code",
   "execution_count": 6,
   "metadata": {},
   "outputs": [],
   "source": [
    "text=\"Heyya! How are you doing? Been a long time. Mr.Smith is here to see you.\""
   ]
  },
  {
   "cell_type": "code",
   "execution_count": 7,
   "metadata": {},
   "outputs": [],
   "source": [
    "words=word_tokenize(text)"
   ]
  },
  {
   "cell_type": "code",
   "execution_count": 8,
   "metadata": {},
   "outputs": [
    {
     "name": "stdout",
     "output_type": "stream",
     "text": [
      "['Heyya', '!', 'How', 'are', 'you', 'doing', '?', 'Been', 'a', 'long', 'time', '.', 'Mr.Smith', 'is', 'here', 'to', 'see', 'you', '.']\n"
     ]
    }
   ],
   "source": [
    "print(words)"
   ]
  },
  {
   "cell_type": "code",
   "execution_count": 9,
   "metadata": {},
   "outputs": [],
   "source": [
    "filtered_sen=[]"
   ]
  },
  {
   "cell_type": "code",
   "execution_count": 11,
   "metadata": {},
   "outputs": [],
   "source": [
    "for w in words:\n",
    "    if w not in stop_words:\n",
    "        filtered_sen.append(w)"
   ]
  },
  {
   "cell_type": "code",
   "execution_count": 12,
   "metadata": {},
   "outputs": [
    {
     "name": "stdout",
     "output_type": "stream",
     "text": [
      "['Heyya', '!', 'How', '?', 'Been', 'long', 'time', '.', 'Mr.Smith', 'see', '.']\n"
     ]
    }
   ],
   "source": [
    "print(filtered_sen)"
   ]
  },
  {
   "cell_type": "code",
   "execution_count": 13,
   "metadata": {},
   "outputs": [],
   "source": [
    "filtered_sentence=[w for w in words if not w in stop_words]"
   ]
  },
  {
   "cell_type": "code",
   "execution_count": 14,
   "metadata": {},
   "outputs": [
    {
     "name": "stdout",
     "output_type": "stream",
     "text": [
      "['Heyya', '!', 'How', '?', 'Been', 'long', 'time', '.', 'Mr.Smith', 'see', '.']\n"
     ]
    }
   ],
   "source": [
    "print(filtered_sentence)"
   ]
  },
  {
   "cell_type": "code",
   "execution_count": null,
   "metadata": {},
   "outputs": [],
   "source": []
  }
 ],
 "metadata": {
  "kernelspec": {
   "display_name": "Python 3",
   "language": "python",
   "name": "python3"
  },
  "language_info": {
   "codemirror_mode": {
    "name": "ipython",
    "version": 3
   },
   "file_extension": ".py",
   "mimetype": "text/x-python",
   "name": "python",
   "nbconvert_exporter": "python",
   "pygments_lexer": "ipython3",
   "version": "3.8.3"
  }
 },
 "nbformat": 4,
 "nbformat_minor": 4
}
