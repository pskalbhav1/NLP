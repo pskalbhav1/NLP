{
 "cells": [
  {
   "cell_type": "code",
   "execution_count": 1,
   "metadata": {},
   "outputs": [],
   "source": [
    "import nltk\n",
    "import random\n",
    "from nltk.corpus import movie_reviews"
   ]
  },
  {
   "cell_type": "code",
   "execution_count": 2,
   "metadata": {},
   "outputs": [],
   "source": [
    "documents = [(list(movie_reviews.words(fileid)), category)\n",
    "             for category in movie_reviews.categories()\n",
    "             for fileid in movie_reviews.fileids(category)]"
   ]
  },
  {
   "cell_type": "code",
   "execution_count": 3,
   "metadata": {},
   "outputs": [],
   "source": [
    "random.shuffle(documents)"
   ]
  },
  {
   "cell_type": "code",
   "execution_count": 4,
   "metadata": {},
   "outputs": [
    {
     "name": "stdout",
     "output_type": "stream",
     "text": [
      "(['plot', ':', 'a', 'down', '-', 'and', '-', 'out', 'girl', 'moves', 'in', 'with', 'some', 'over', '-', 'the', '-', 'top', 'models', 'and', 'falls', 'in', 'love', 'with', 'a', 'goofy', '-', 'but', '-', 'loveable', 'guy', 'from', 'across', 'the', 'street', '.', 'aaaaaaaaah', '!', 'then', 'one', 'day', ',', 'she', 'sees', 'him', 'knock', 'a', 'woman', 'upside', 'the', 'head', 'with', 'a', 'baseball', 'bat', '.', 'ooooooooh', '!', 'she', 'must', 'then', 'join', 'together', 'with', 'her', 'model', '-', 'friends', 'to', 'find', 'out', 'whether', 'or', 'not', 'this', 'guy', 'is', 'really', 'goofy', '-', 'but', '-', 'loveable', ',', 'or', 'a', 'psycho', 'killer', '.', 'aaaaaaaaah', '!', 'critique', ':', 'completely', 'idiotic', '.', 'okay', ',', 'so', 'maybe', 'i', \"'\", 'm', 'being', 'a', 'little', 'too', 'nice', '.', 'this', 'movie', 'starts', 'off', 'dumb', ',', 'moves', 'into', 'the', 'ridiculous', 'and', 'eventually', 'graduates', 'to', 'idiocy', '.', 'there', '.', '.', '.', 'that', \"'\", 's', 'more', 'like', 'it', '!', 'and', 'how', ',', 'you', 'may', 'ask', '?', 'well', ',', 'it', \"'\", 's', 'simple', 'really', '.', 'four', 'of', 'the', 'dumbest', 'stereotypical', 'models', 'in', 'the', 'world', '(', 'oh', 'my', 'god', ',', 'i', 'just', 'found', 'out', 'that', 'the', 'actresses', 'playing', 'the', 'parts', 'are', 'models', 'in', 'real', 'life', '.', '.', '.', 'yipes', '!', ')', 'join', 'monica', 'potter', '(', 'in', 'a', 'role', 'which', 'can', 'only', 'be', 'described', 'as', 'an', 'obvious', 'cry', 'for', 'help', ')', 'and', 'freddie', 'prinze', 'jr', '.', '(', 'not', 'the', 'actor', ',', 'but', 'the', 'character', 'better', 'known', 'as', 'freddie', 'prinze', 'jr', '.', ')', ',', 'in', 'a', 'plot', 'so', 'stupid', 'and', 'far', '-', 'fetched', ',', 'that', 'you', 'have', 'to', 'wonder', 'once', 'more', ',', 'how', 'crap', 'like', 'this', 'gets', 'by', 'the', 'hollywood', 'bigwigs', '.', 'this', 'thing', 'stinks', 'to', 'high', '-', 'heaven', '.', 'it', \"'\", 's', 'just', 'plain', 'embarrassing', 'for', 'everyone', 'involved', '.', 'i', 'even', 'felt', 'my', 'iq', 'dip', 'below', 'its', 'usual', 'low', 'as', 'toilet', 'humor', 'somehow', 'worked', 'its', 'way', 'into', 'this', 'so', '-', 'called', 'romantic', '-', 'comedy', '-', 'action', 'movie', '?', 'ugh', '.', 'what', 'a', 'pile', 'of', 'dung', '.', 'hey', ',', 'i', \"'\", 'm', 'actually', 'starting', 'to', 'sound', 'a', 'little', 'like', 'harry', 'knowles', 'here', ',', 'but', 'i', 'guess', 'i', 'could', 'see', 'where', 'his', 'frustration', 'comes', 'from', 'time', 'to', 'time', '.', 'it', \"'\", 's', 'sad', 'really', '.', 'a', 'movie', 'which', 'actually', 'had', 'quite', 'a', 'few', 'people', 'in', 'my', 'audience', 'laughing', 'at', 'its', 'idiocy', ',', 'including', 'the', 'over', '-', 'used', '\"', 'folks', 'hiding', 'in', 'the', 'bathroom', 'while', 'someone', 'else', 'comes', 'in', 'to', 'take', 'a', 'crap', 'and', 'fart', '\"', 'gag', '.', 'and', 'how', 'about', 'that', 'dumb', 'blonde', 'model', 'who', 'keeps', 'running', 'into', 'things', '.', 'pure', 'hilarity', '!', 'or', 'maybe', 'i', \"'\", 'm', 'just', 'too', 'jaded', ',', 'too', 'much', 'of', 'a', 'critic', ',', 'not', 'relaxed', 'enough', 'to', 'enjoy', 'this', 'fluff', '-', 'piece', '.', '.', '.', 'uuuhhmmm', '.', '.', '.', 'naaaaah', '!', '!', 'this', 'movie', 'sucks', 'the', 'big', 'one', '.', 'it', \"'\", 's', 'chockfull', 'of', 'stupid', 'characters', 'delivering', 'inane', 'dialogue', 'fitting', 'snuggly', 'into', 'a', 'preposterous', 'plot', '.', 'this', 'is', 'the', 'kind', 'of', 'movie', 'that', 'has', 'one', 'character', 'inserting', 'another', 'character', 'into', 'a', 'car', 'headfirst', 'to', 'the', 'floor', 'only', 'because', '.', '.', '.', 'well', ',', 'it', \"'\", 's', 'supposed', 'to', 'be', 'funny', ',', 'see', '?', 'you', 'see', ',', 'that', 'person', 'then', 'has', 'their', 'legs', 'swinging', 'in', 'the', 'other', 'person', \"'\", 's', 'face', 'as', 'they', 'drive', 'and', 'that', 'distracts', 'the', 'driver', ',', 'see', ',', 'and', 'well', ',', 'that', \"'\", 's', 'kinda', 'funny', ',', 'no', '?', 'harumph', '.', '.', '.', 'yeah', ',', 'well', '.', '.', '.', 'you', 'get', 'the', 'picture', '!', 'anyhoo', ',', 'freddie', 'prinze', 'jr', '.', '.', '.', '.', 'nuff', 'said', '.', 'monica', 'potter', ',', 'a', 'bad', 'career', 'move', ',', 'but', 'we', 'might', 'forgive', 'you', 'if', 'you', 'keep', 'up', 'the', 'julia', 'roberts', 'bit', '.', 'the', 'rest', 'of', 'the', 'model', 'girls', '.', '.', '.', 'well', ',', 'thanks', 'for', 'being', 'there', 'so', 'i', 'had', 'something', 'to', 'look', 'at', ',', 'but', 'please', 'apologize', 'to', 'the', 'entire', 'modeling', 'community', 'as', 'a', 'whole', ',', 'for', 'making', 'them', 'all', 'out', 'to', 'be', 'complete', 'imbeciles', '!', '!', 'so', 'why', 'the', 'three', 'points', 'out', 'of', 'ten', ',', 'you', 'may', 'ask', '?', 'well', ',', 'it', \"'\", 's', 'simple', 'really', '.', 'one', 'point', 'goes', 'to', 'the', 'russian', 'model', 'girl', 'and', 'that', 'cool', 'accent', '(', 'don', \"'\", 't', 'ask', 'me', 'why', ',', 'but', 'it', 'actually', 'turned', 'me', 'on', ')', '.', 'one', 'point', 'goes', 'out', 'to', 'all', 'of', 'the', 'model', 'girls', 'for', 'being', 'in', 'the', 'movie', '(', 'nice', 'window', 'decoration', '.', '.', '.', 'natch', '!', ')', '.', 'and', 'one', 'last', 'point', 'goes', 'out', 'to', 'the', 'makers', 'of', 'this', 'film', ',', 'who', 'spared', 'us', 'any', 'long', 'sorted', 'story', ',', 'and', 'made', 'sure', 'to', 'give', 'us', 'the', 'opportunity', 'of', 'leaving', 'the', 'theatre', 'after', 'only', '90', 'minutes', 'of', 'manufactured', 'garbage', ',', 'so', 'that', 'we', 'could', 'run', 'out', 'as', 'fast', 'as', 'we', 'can', ',', 'grab', 'the', 'next', 'person', 'that', 'we', 'see', 'walking', 'down', 'the', 'street', 'and', 'warn', 'them', 'of', 'the', 'devil', 'that', 'is', '.', '.', '.', 'freddie', 'prinze', 'jr', '.', '.', '.', 'i', 'mean', ',', 'head', 'over', 'heels', '.', 'you', \"'\", 've', 'been', 'warned', ',', 'good', 'people', '.', 'ps', ':', 'didja', 'notice', 'how', 'i', 'didn', \"'\", 't', 'even', 'mention', 'rear', 'window', 'once', 'in', 'my', 'entire', 'review', '?', 'i', 'didn', \"'\", 't', 'want', 'to', 'taint', 'the', 'memory', 'of', 'the', 'classic', 'flick', 'by', 'having', 'it', 'uttered', 'alongside', 'this', 'thing', ',', 'but', 'then', 'again', ',', 'i', 'just', 'did', 'mention', 'it', ',', 'but', 'i', 'guess', 'it', 'doesn', \"'\", 't', 'count', 'in', 'the', 'ps', 'section', '.', '.', '.', 'or', 'does', 'it', '?', 'ooooh', ',', 'whatever', '.', '.', '.', 'i', 'have', 'a', 'headache', '!', '(', 'i', 'think', 'my', 'brain', 'is', 'coming', 'back', 'to', 'life', ')', 'where', \"'\", 's', 'joblo', 'coming', 'from', '?', '10', 'things', 'i', 'hate', 'about', 'you', '(', '7', '/', '10', ')', '-', 'coyote', 'ugly', '(', '6', '.', '5', '/', '10', ')', '-', 'down', 'to', 'you', '(', '6', '.', '5', '/', '10', ')', '-', 'save', 'the', 'last', 'dance', '(', '7', '/', '10', ')', '-', 'she', \"'\", 's', 'all', 'that', '(', '6', '.', '5', '/', '10', ')', '-', 'the', 'wedding', 'planner', '(', '4', '/', '10', ')', '-', 'you', \"'\", 've', 'got', 'mail', '(', '5', '.', '5', '/', '10', ')'], 'neg')\n"
     ]
    }
   ],
   "source": [
    "print(documents[1])"
   ]
  },
  {
   "cell_type": "code",
   "execution_count": 5,
   "metadata": {},
   "outputs": [],
   "source": [
    "all_words = []\n",
    "for w in movie_reviews.words():\n",
    "    all_words.append(w.lower())"
   ]
  },
  {
   "cell_type": "code",
   "execution_count": 8,
   "metadata": {},
   "outputs": [
    {
     "name": "stdout",
     "output_type": "stream",
     "text": [
      "[(',', 77717), ('the', 76529), ('.', 65876), ('a', 38106), ('and', 35576), ('of', 34123), ('to', 31937), (\"'\", 30585), ('is', 25195), ('in', 21822), ('s', 18513), ('\"', 17612), ('it', 16107), ('that', 15924), ('-', 15595), (')', 11781), ('(', 11664), ('as', 11378), ('with', 10792), ('for', 9961)]\n"
     ]
    }
   ],
   "source": [
    "all_words = nltk.FreqDist(all_words)\n",
    "print(all_words.most_common(20))"
   ]
  },
  {
   "cell_type": "code",
   "execution_count": 9,
   "metadata": {},
   "outputs": [
    {
     "name": "stdout",
     "output_type": "stream",
     "text": [
      "253\n"
     ]
    }
   ],
   "source": [
    "print(all_words[\"stupid\"])"
   ]
  },
  {
   "cell_type": "code",
   "execution_count": null,
   "metadata": {},
   "outputs": [],
   "source": []
  }
 ],
 "metadata": {
  "kernelspec": {
   "display_name": "Python 3",
   "language": "python",
   "name": "python3"
  },
  "language_info": {
   "codemirror_mode": {
    "name": "ipython",
    "version": 3
   },
   "file_extension": ".py",
   "mimetype": "text/x-python",
   "name": "python",
   "nbconvert_exporter": "python",
   "pygments_lexer": "ipython3",
   "version": "3.8.3"
  }
 },
 "nbformat": 4,
 "nbformat_minor": 4
}
